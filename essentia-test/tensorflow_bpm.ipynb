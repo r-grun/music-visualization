{
 "cells": [
  {
   "cell_type": "code",
   "execution_count": 1,
   "metadata": {},
   "outputs": [
    {
     "name": "stderr",
     "output_type": "stream",
     "text": [
      "2022-01-18 15:40:37.064673: W tensorflow/stream_executor/platform/default/dso_loader.cc:64] Could not load dynamic library 'libcudart.so.11.0'; dlerror: libcudart.so.11.0: cannot open shared object file: No such file or directory\n",
      "2022-01-18 15:40:37.064702: I tensorflow/stream_executor/cuda/cudart_stub.cc:29] Ignore above cudart dlerror if you do not have a GPU set up on your machine.\n",
      "2022-01-18 15:40:37.833146: I tensorflow/core/platform/cpu_feature_guard.cc:142] This TensorFlow binary is optimized with oneAPI Deep Neural Network Library (oneDNN) to use the following CPU instructions in performance-critical operations:  SSE3 SSE4.1 SSE4.2 AVX AVX2 FMA\n",
      "To enable them in other operations, rebuild TensorFlow with the appropriate compiler flags.\n",
      "2022-01-18 15:40:37.833306: W tensorflow/stream_executor/platform/default/dso_loader.cc:64] Could not load dynamic library 'libcuda.so.1'; dlerror: libcuda.so.1: cannot open shared object file: No such file or directory\n",
      "2022-01-18 15:40:37.833317: W tensorflow/stream_executor/cuda/cuda_driver.cc:326] failed call to cuInit: UNKNOWN ERROR (303)\n",
      "2022-01-18 15:40:37.833330: I tensorflow/stream_executor/cuda/cuda_diagnostics.cc:156] kernel driver does not appear to be running on this host (robin-Virtual-Machine): /proc/driver/nvidia/version does not exist\n"
     ]
    }
   ],
   "source": [
    "import json\n",
    "\n",
    "from essentia.streaming import (\n",
    "    VectorInput,\n",
    "    FrameCutter,\n",
    "    TempoCNN,\n",
    "    TensorflowPredictTempoCNN,\n",
    "    TensorflowInputTempoCNN,\n",
    "    TensorflowInputMusiCNN,\n",
    "    VectorRealToTensor,\n",
    "    TensorToPool,\n",
    "    TensorflowPredict,\n",
    "    PoolToTensor,\n",
    "    TensorToVectorReal\n",
    ")\n",
    "from essentia import Pool, run, reset\n",
    "from IPython import display\n",
    "import numpy as np\n",
    "import matplotlib.pyplot as plt\n",
    "from scipy.special import softmax\n",
    "import soundcard as sc\n",
    "\n",
    "%matplotlib nbagg"
   ]
  },
  {
   "cell_type": "markdown",
   "metadata": {},
   "source": [
    "Define the analysis parameters.\n",
    "To make this demo work in real-time, we tweaked some of the analysis parameters of `MusiCNN`.\n",
    "While it was trained on patches of size 187 (\\~3 seconds) we set `patch_size` to 64 (\\~1 second) to increase the prediction rate.\n",
    "You can experiment with the `patch_size` and `display_size` parameters to modify the prediction rate to your taste."
   ]
  },
  {
   "cell_type": "code",
   "execution_count": 2,
   "metadata": {},
   "outputs": [],
   "source": [
    "with open('deeptemp-k16-3.json', 'r') as json_file:\n",
    "    metadata = json.load(json_file)\n",
    "\n",
    "model_file = 'deeptemp-k16-3.pb'\n",
    "input_layer = metadata['schema']['inputs'][0]['name']\n",
    "output_layer = metadata['schema']['outputs'][0]['name']\n",
    "\n",
    "# Analysis parameters.\n",
    "sample_rate = 11025\n",
    "frame_size = 1024 \n",
    "hop_size = 256\n",
    "n_bands = 40\n",
    "patch_size = 64\n",
    "display_size = 10\n",
    "\n",
    "buffer_size = patch_size * hop_size"
   ]
  },
  {
   "cell_type": "markdown",
   "metadata": {},
   "source": [
    "Instantiate the algorithms. With this, we create a network similar to the one used inside `TensorflowPredictMusiCNN`, the wrapper algorithm presented in the previous tutorial. However, by instantiating the algorithms separately we gain additional control required for real-time usage."
   ]
  },
  {
   "cell_type": "code",
   "execution_count": 8,
   "metadata": {},
   "outputs": [
    {
     "name": "stderr",
     "output_type": "stream",
     "text": [
      "[   INFO   ] Successfully loaded graph file: `deeptemp-k16-3.pb`\n",
      "[   INFO   ] Successfully loaded graph file: `deeptemp-k16-3.pb`\n"
     ]
    }
   ],
   "source": [
    "buffer = np.zeros(buffer_size, dtype='float32')\n",
    "vimp = VectorInput(buffer)\n",
    "fc = FrameCutter(frameSize=frame_size, hopSize=hop_size)\n",
    "tim = TensorflowInputTempoCNN()\n",
    "vtt = VectorRealToTensor(shape=[1, 1, patch_size, n_bands],\n",
    "                         lastPatchMode='discard')\n",
    "ttp = TensorToPool(namespace=input_layer)\n",
    "tfp = TensorflowPredict(graphFilename=model_file,\n",
    "                        inputs=[input_layer],\n",
    "                        outputs=[output_layer])\n",
    "tfpt = TensorflowPredictTempoCNN(graphFilename=model_file,\n",
    "                        input=input_layer,\n",
    "                        output=output_layer)\n",
    "ptt = PoolToTensor(namespace=output_layer)\n",
    "ttv = TensorToVectorReal()\n",
    "pool = Pool()"
   ]
  },
  {
   "cell_type": "markdown",
   "metadata": {},
   "source": [
    "Connect the algorithms. We also store the mel-spectrograms in the `Pool` for visualization purposes."
   ]
  },
  {
   "cell_type": "code",
   "execution_count": 9,
   "metadata": {
    "scrolled": true
   },
   "outputs": [],
   "source": [
    "# vimp.data   >> fc.signal\n",
    "# fc.frame    >> tim.frame\n",
    "# tim.bands   >> vtt.frame\n",
    "# vtt.tensor  >> ttp.tensor\n",
    "# ttp.pool    >> tfp.poolIn\n",
    "# tfp.poolOut >> ptt.pool\n",
    "# ptt.tensor  >> ttv.tensor\n",
    "# ttv.frame   >> (pool, output_layer)\n",
    "\n",
    "vimp.data           >>  tfpt.signal\n",
    "tfpt.predictions    >>  (pool, output_layer)"
   ]
  },
  {
   "cell_type": "markdown",
   "metadata": {},
   "source": [
    "Create a callback function that will be called every time the audio buffer is ready to process."
   ]
  },
  {
   "cell_type": "markdown",
   "metadata": {},
   "source": [
    "Initialize the plots and start processing the loopback stream."
   ]
  },
  {
   "cell_type": "code",
   "execution_count": 10,
   "metadata": {},
   "outputs": [],
   "source": [
    "def callback_console(data):\n",
    "    buffer[:] = data.flatten()\n",
    "\n",
    "    # Generate predictions.\n",
    "    reset(vimp)\n",
    "    run(vimp)\n",
    "    \n",
    "    print(softmax(20 * pool[output_layer][-1, :].T))\n",
    "\n"
   ]
  },
  {
   "cell_type": "code",
   "execution_count": 11,
   "metadata": {
    "scrolled": false
   },
   "outputs": [
    {
     "ename": "KeyError",
     "evalue": "\"no key found named 'output'\"",
     "output_type": "error",
     "traceback": [
      "\u001b[0;31m---------------------------------------------------------------------------\u001b[0m",
      "\u001b[0;31mKeyError\u001b[0m                                  Traceback (most recent call last)",
      "\u001b[0;32m/tmp/ipykernel_5463/2152107198.py\u001b[0m in \u001b[0;36m<module>\u001b[0;34m\u001b[0m\n\u001b[1;32m      5\u001b[0m     \u001b[0;32mwhile\u001b[0m \u001b[0;32mTrue\u001b[0m\u001b[0;34m:\u001b[0m\u001b[0;34m\u001b[0m\u001b[0;34m\u001b[0m\u001b[0m\n\u001b[1;32m      6\u001b[0m         \u001b[0;31m# callback(mic.record(numframes=buffer_size).mean(axis=1))\u001b[0m\u001b[0;34m\u001b[0m\u001b[0;34m\u001b[0m\u001b[0m\n\u001b[0;32m----> 7\u001b[0;31m         \u001b[0mcallback_console\u001b[0m\u001b[0;34m(\u001b[0m\u001b[0mmic\u001b[0m\u001b[0;34m.\u001b[0m\u001b[0mrecord\u001b[0m\u001b[0;34m(\u001b[0m\u001b[0mnumframes\u001b[0m\u001b[0;34m=\u001b[0m\u001b[0mbuffer_size\u001b[0m\u001b[0;34m)\u001b[0m\u001b[0;34m.\u001b[0m\u001b[0mmean\u001b[0m\u001b[0;34m(\u001b[0m\u001b[0maxis\u001b[0m\u001b[0;34m=\u001b[0m\u001b[0;36m1\u001b[0m\u001b[0;34m)\u001b[0m\u001b[0;34m)\u001b[0m\u001b[0;34m\u001b[0m\u001b[0;34m\u001b[0m\u001b[0m\n\u001b[0m",
      "\u001b[0;32m/tmp/ipykernel_5463/1319864641.py\u001b[0m in \u001b[0;36mcallback_console\u001b[0;34m(data)\u001b[0m\n\u001b[1;32m      6\u001b[0m     \u001b[0mrun\u001b[0m\u001b[0;34m(\u001b[0m\u001b[0mvimp\u001b[0m\u001b[0;34m)\u001b[0m\u001b[0;34m\u001b[0m\u001b[0;34m\u001b[0m\u001b[0m\n\u001b[1;32m      7\u001b[0m \u001b[0;34m\u001b[0m\u001b[0m\n\u001b[0;32m----> 8\u001b[0;31m     \u001b[0mprint\u001b[0m\u001b[0;34m(\u001b[0m\u001b[0msoftmax\u001b[0m\u001b[0;34m(\u001b[0m\u001b[0;36m20\u001b[0m \u001b[0;34m*\u001b[0m \u001b[0mpool\u001b[0m\u001b[0;34m[\u001b[0m\u001b[0moutput_layer\u001b[0m\u001b[0;34m]\u001b[0m\u001b[0;34m[\u001b[0m\u001b[0;34m-\u001b[0m\u001b[0;36m1\u001b[0m\u001b[0;34m,\u001b[0m \u001b[0;34m:\u001b[0m\u001b[0;34m]\u001b[0m\u001b[0;34m.\u001b[0m\u001b[0mT\u001b[0m\u001b[0;34m)\u001b[0m\u001b[0;34m)\u001b[0m\u001b[0;34m\u001b[0m\u001b[0;34m\u001b[0m\u001b[0m\n\u001b[0m\u001b[1;32m      9\u001b[0m \u001b[0;34m\u001b[0m\u001b[0m\n",
      "\u001b[0;32m~/.local/lib/python3.9/site-packages/essentia/common.py\u001b[0m in \u001b[0;36m__getitem__\u001b[0;34m(self, key)\u001b[0m\n\u001b[1;32m    528\u001b[0m     \u001b[0;32mdef\u001b[0m \u001b[0m__getitem__\u001b[0m\u001b[0;34m(\u001b[0m\u001b[0mself\u001b[0m\u001b[0;34m,\u001b[0m \u001b[0mkey\u001b[0m\u001b[0;34m)\u001b[0m\u001b[0;34m:\u001b[0m\u001b[0;34m\u001b[0m\u001b[0;34m\u001b[0m\u001b[0m\n\u001b[1;32m    529\u001b[0m         \u001b[0;32mif\u001b[0m \u001b[0;32mnot\u001b[0m \u001b[0mself\u001b[0m\u001b[0;34m.\u001b[0m\u001b[0mcontainsKey\u001b[0m\u001b[0;34m(\u001b[0m\u001b[0mkey\u001b[0m\u001b[0;34m)\u001b[0m\u001b[0;34m:\u001b[0m\u001b[0;34m\u001b[0m\u001b[0;34m\u001b[0m\u001b[0m\n\u001b[0;32m--> 530\u001b[0;31m             \u001b[0;32mraise\u001b[0m \u001b[0mKeyError\u001b[0m\u001b[0;34m(\u001b[0m\u001b[0;34m'no key found named \\''\u001b[0m\u001b[0;34m+\u001b[0m\u001b[0mkey\u001b[0m\u001b[0;34m+\u001b[0m\u001b[0;34m'\\''\u001b[0m\u001b[0;34m)\u001b[0m\u001b[0;34m\u001b[0m\u001b[0;34m\u001b[0m\u001b[0m\n\u001b[0m\u001b[1;32m    531\u001b[0m \u001b[0;34m\u001b[0m\u001b[0m\n\u001b[1;32m    532\u001b[0m         \u001b[0;32mreturn\u001b[0m \u001b[0mself\u001b[0m\u001b[0;34m.\u001b[0m\u001b[0mcppPool\u001b[0m\u001b[0;34m.\u001b[0m\u001b[0m__value__\u001b[0m\u001b[0;34m(\u001b[0m\u001b[0mkey\u001b[0m\u001b[0;34m,\u001b[0m \u001b[0mself\u001b[0m\u001b[0;34m.\u001b[0m\u001b[0mcppPool\u001b[0m\u001b[0;34m.\u001b[0m\u001b[0m__keyType__\u001b[0m\u001b[0;34m(\u001b[0m\u001b[0mkey\u001b[0m\u001b[0;34m)\u001b[0m\u001b[0;34m)\u001b[0m\u001b[0;34m\u001b[0m\u001b[0;34m\u001b[0m\u001b[0m\n",
      "\u001b[0;31mKeyError\u001b[0m: \"no key found named 'output'\""
     ]
    }
   ],
   "source": [
    "pool.clear()\n",
    "\n",
    "# Capture and process the speakers loopback.\n",
    "with sc.all_microphones(include_loopback=True)[0].recorder(samplerate=sample_rate) as mic:\n",
    "    while True:\n",
    "        # callback(mic.record(numframes=buffer_size).mean(axis=1))\n",
    "        callback_console(mic.record(numframes=buffer_size).mean(axis=1))"
   ]
  }
 ],
 "metadata": {
  "interpreter": {
   "hash": "36cf16204b8548560b1c020c4e8fb5b57f0e4c58016f52f2d4be01e192833930"
  },
  "kernelspec": {
   "display_name": "Python 3.9.9 64-bit",
   "language": "python",
   "name": "python3"
  },
  "language_info": {
   "codemirror_mode": {
    "name": "ipython",
    "version": 3
   },
   "file_extension": ".py",
   "mimetype": "text/x-python",
   "name": "python",
   "nbconvert_exporter": "python",
   "pygments_lexer": "ipython3",
   "version": "3.9.9"
  },
  "metadata": {
   "interpreter": {
    "hash": "31f2aee4e71d21fbe5cf8b01ff0e069b9275f58929596ceb00d14d90e3e16cd6"
   }
  }
 },
 "nbformat": 4,
 "nbformat_minor": 2
}
